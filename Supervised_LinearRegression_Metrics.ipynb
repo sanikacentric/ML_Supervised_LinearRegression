{
  "nbformat": 4,
  "nbformat_minor": 0,
  "metadata": {
    "colab": {
      "provenance": []
    },
    "kernelspec": {
      "name": "python3",
      "display_name": "Python 3"
    },
    "language_info": {
      "name": "python"
    }
  },
  "cells": [
    {
      "cell_type": "code",
      "source": [
        "###########Linear Regression\n",
        "#Explanation:\n",
        "#We model the relationship: Weight = m*Age + c\n",
        "\n",
        "#.fit(X, y) learns slope (m) and intercept (c)\n",
        "\n",
        "#.predict([[26]]) estimates the weight for a 26-year-old#\n",
        "\n",
        "from sklearn.linear_model import LinearRegression\n",
        "import numpy as np\n",
        "\n",
        "# Sample Data\n",
        "X = np.array([[24], [25], [21], [27]])   # Age (independent variable)\n",
        "y = np.array([72, 71, 71.5, 62])         # Weight (dependent variable)\n",
        "\n",
        "# Train the model\n",
        "model = LinearRegression()\n",
        "model.fit(X, y)\n",
        "\n",
        "# Prediction\n",
        "age = np.array([[26]])\n",
        "predicted_weight = model.predict(age)\n",
        "print(f\"Predicted Weight for Age 26: {predicted_weight[0]:.2f}\")\n"
      ],
      "metadata": {
        "id": "mpq2k22Wansm"
      },
      "execution_count": null,
      "outputs": []
    },
    {
      "cell_type": "markdown",
      "source": [],
      "metadata": {
        "id": "YWUUa0Zuaw9L"
      }
    },
    {
      "cell_type": "code",
      "execution_count": null,
      "metadata": {
        "id": "0qS5qI_CZGiK"
      },
      "outputs": [],
      "source": [
        "#####performance of R2 and adjusted R2\n",
        "\n",
        "\n",
        "from sklearn.metrics import r2_score\n",
        "import statsmodels.api as sm\n",
        "\n",
        "# Sample data\n",
        "X = [[1], [2], [3], [4], [5]]\n",
        "y = [1, 2, 1.3, 3.75, 2.25]\n",
        "\n",
        "# R-squared using sklearn\n",
        "from sklearn.linear_model import LinearRegression\n",
        "model = LinearRegression()\n",
        "model.fit(X, y)\n",
        "y_pred = model.predict(X)\n",
        "print(\"R²:\", r2_score(y, y_pred))\n",
        "\n",
        "# Adjusted R-squared using statsmodels\n",
        "X_sm = sm.add_constant(X)  # add intercept term\n",
        "model_sm = sm.OLS(y, X_sm).fit()\n",
        "print(\"Adjusted R²:\", model_sm.rsquared_adj)\n"
      ]
    },
    {
      "cell_type": "markdown",
      "source": [
        "2) Ridge and Lasso Regression"
      ],
      "metadata": {
        "id": "u7bYGkYSbCTV"
      }
    },
    {
      "cell_type": "code",
      "source": [
        "#Explanation:\n",
        "#Ridge minimizes: Loss + α * sum of squared coefficients\n",
        "\n",
        "#Lasso minimizes: Loss + α * sum of absolute coefficients\n",
        "\n",
        "#Alpha is the regularization strength: higher value → more shrinkage\n",
        "\n",
        "\n",
        "from sklearn.linear_model import Ridge, Lasso\n",
        "import numpy as np\n",
        "\n",
        "# Sample Data\n",
        "X = np.array([[1], [2], [3], [4], [5]])\n",
        "y = np.array([1, 2, 1.3, 3.75, 2.25])\n",
        "\n",
        "# Ridge Regression (L2)\n",
        "ridge = Ridge(alpha=1.0)\n",
        "ridge.fit(X, y)\n",
        "print(\"Ridge Prediction for 6:\", ridge.predict([[6]])[0])\n",
        "\n",
        "# Lasso Regression (L1)\n",
        "lasso = Lasso(alpha=0.1)\n",
        "lasso.fit(X, y)\n",
        "print(\"Lasso Prediction for 6:\", lasso.predict([[6]])[0])\n"
      ],
      "metadata": {
        "id": "l8x7GYmra6jF"
      },
      "execution_count": null,
      "outputs": []
    },
    {
      "cell_type": "markdown",
      "source": [
        "3) Logistic Regression"
      ],
      "metadata": {
        "id": "-naPky0abJ1t"
      }
    },
    {
      "cell_type": "code",
      "source": [
        "#Explanation:\n",
        "#Uses sigmoid function to convert linear output into probabilities\n",
        "\n",
        "#Predicts class based on probability threshold (default: 0.5)\n",
        "\n",
        "#.fit() finds optimal weights for separating pass/fail\n",
        "\n",
        "from sklearn.linear_model import LogisticRegression\n",
        "import numpy as np\n",
        "\n",
        "# Sample Data\n",
        "# Features: [study_hours, play_hours]\n",
        "X = np.array([[2, 2], [3, 1], [4, 2], [5, 1], [1, 3]])\n",
        "# Labels: 1 = Pass, 0 = Fail\n",
        "y = np.array([0, 0, 1, 1, 0])\n",
        "\n",
        "# Train the model\n",
        "model = LogisticRegression()\n",
        "model.fit(X, y)\n",
        "\n",
        "# Predict outcome for a new student\n",
        "new_data = np.array([[4, 1]])\n",
        "prediction = model.predict(new_data)\n",
        "print(\"Prediction (1=Pass, 0=Fail):\", prediction[0])\n"
      ],
      "metadata": {
        "id": "WQoWBf82bKVT"
      },
      "execution_count": null,
      "outputs": []
    },
    {
      "cell_type": "markdown",
      "source": [
        " 4) Decision Tree Classifier"
      ],
      "metadata": {
        "id": "rmks30Qxbgk7"
      }
    },
    {
      "cell_type": "code",
      "source": [
        "#Explanation:\n",
        "#Decision Tree splits the feature space based on threshold conditions\n",
        "\n",
        "#max_depth prevents overfitting\n",
        "\n",
        "#Each node represents a decision rule\n",
        "\n",
        "\n",
        "from sklearn.tree import DecisionTreeClassifier\n",
        "\n",
        "# Sample Data\n",
        "X = [[1, 1], [2, 1], [3, 2], [4, 1], [5, 3]]  # [Study hours, Play hours]\n",
        "y = [0, 0, 1, 1, 1]                          # 0 = Fail, 1 = Pass\n",
        "\n",
        "# Train model\n",
        "tree = DecisionTreeClassifier(max_depth=2)\n",
        "tree.fit(X, y)\n",
        "\n",
        "# Predict\n",
        "prediction = tree.predict([[4, 2]])  # new data: 4 hours study, 2 hours play\n",
        "print(\"Decision Tree Prediction (1=Pass, 0=Fail):\", prediction[0])\n"
      ],
      "metadata": {
        "id": "YH5fW8kvbgxb"
      },
      "execution_count": null,
      "outputs": []
    }
  ]
}